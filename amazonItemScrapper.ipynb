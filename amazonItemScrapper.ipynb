{
 "cells": [
  {
   "cell_type": "markdown",
   "id": "117996bd",
   "metadata": {},
   "source": [
    "# # Amazon's Item Web Scrapping Using Python &beautifulsoup"
   ]
  },
  {
   "cell_type": "code",
   "execution_count": 24,
   "id": "ae1cddaa",
   "metadata": {},
   "outputs": [],
   "source": [
    "#import libraries\n",
    "from bs4 import BeautifulSoup as bs\n",
    "import requests\n",
    "import time\n",
    "import datetime"
   ]
  },
  {
   "cell_type": "code",
   "execution_count": 25,
   "id": "741d9352",
   "metadata": {},
   "outputs": [],
   "source": [
    "#create file and add header\n",
    "import csv\n",
    "header=['title','price','deal expiry', 'date']\n",
    "with open('amazonWatchTracker.csv','a',newline='',encoding='UTF8') as f:\n",
    "    writer=csv.writer(f)\n",
    "    writer.writerow(header) "
   ]
  },
  {
   "cell_type": "code",
   "execution_count": 26,
   "id": "58372a09",
   "metadata": {},
   "outputs": [],
   "source": [
    "url='https://www.amazon.eg/%D8%B3%D8%A7%D8%B9%D8%A9-%D8%B1%D8%B3%D9%85%D9%8A%D8%A9-%D9%84%D9%84%D8%B1%D8%AC%D8%A7%D9%84-%D9%81%D9%88%D8%B3%D9%8A%D9%84-FS5170/dp/B01BM6FNYS?ref_=Oct_DLandingS_D_b7a0e03c_68&smid=A1ZVRGNO5AYLOV'\n",
    "#get your browser headers from here : http://httpbin.org/get\n",
    "#headers={\"User-Agent\": \"Mozilla/5.0 (X11; Ubuntu; Linux x86_64; rv:91.0) Gecko/20100101 Firefox/91.0\",\"X-Amzn-Trace-Id\": \"Root=1-6139e8cf-4e3b23721f643c261e3f28b5\"}\n",
    "# use default/generic header user agent\n",
    "headers={\"User-Agent\":\"Mozilla/5.0 (Windows NT 6.1; Win64; x64; rv:47.0) Gecko/20100101 Firefox/91.0\"}"
   ]
  },
  {
   "cell_type": "code",
   "execution_count": 27,
   "id": "2a9c8d68",
   "metadata": {},
   "outputs": [],
   "source": [
    "#request & load page\n",
    "page=requests.get(url,headers=headers)\n",
    "d1=bs(page.content,'html.parser')\n",
    "#make pretty &organized\n",
    "d2=bs(d1.prettify(),'html.parser')\n"
   ]
  },
  {
   "cell_type": "code",
   "execution_count": 28,
   "id": "3b3b4bba",
   "metadata": {},
   "outputs": [],
   "source": [
    "#get required data\n",
    "title=d2.find(id='productTitle').get_text().strip()\n",
    "price=d2.find(id=\"priceblock_dealprice\").get_text().replace('جنيه',' ').strip()\n",
    "dealExpiry=d2.find(id='deal_expiry_timer_b7a0e03c').get_text().strip()\n"
   ]
  },
  {
   "cell_type": "code",
   "execution_count": 29,
   "id": "3440f2fa",
   "metadata": {},
   "outputs": [],
   "source": [
    "#save into csv file\n",
    "data=[title,price,dealExpiry, datetime.date.today()]\n",
    "\n",
    "with open('amazonWatchTracker.csv','a',newline='',encoding='UTF8') as f:\n",
    "    writer=csv.writer(f)\n",
    "    writer.writerow(data)\n",
    "\n"
   ]
  },
  {
   "cell_type": "code",
   "execution_count": 30,
   "id": "74a238e9",
   "metadata": {},
   "outputs": [
    {
     "data": {
      "text/html": [
       "<div>\n",
       "<style scoped>\n",
       "    .dataframe tbody tr th:only-of-type {\n",
       "        vertical-align: middle;\n",
       "    }\n",
       "\n",
       "    .dataframe tbody tr th {\n",
       "        vertical-align: top;\n",
       "    }\n",
       "\n",
       "    .dataframe thead th {\n",
       "        text-align: right;\n",
       "    }\n",
       "</style>\n",
       "<table border=\"1\" class=\"dataframe\">\n",
       "  <thead>\n",
       "    <tr style=\"text-align: right;\">\n",
       "      <th></th>\n",
       "      <th>title</th>\n",
       "      <th>price</th>\n",
       "      <th>deal expiry</th>\n",
       "      <th>date</th>\n",
       "    </tr>\n",
       "  </thead>\n",
       "  <tbody>\n",
       "    <tr>\n",
       "      <th>0</th>\n",
       "      <td>ساعة رسمية للرجال من فوسيل FS5170 - بني</td>\n",
       "      <td>2,337.00</td>\n",
       "      <td>تنتهي في 3 أيام</td>\n",
       "      <td>2021-09-11</td>\n",
       "    </tr>\n",
       "  </tbody>\n",
       "</table>\n",
       "</div>"
      ],
      "text/plain": [
       "                                     title     price      deal expiry  \\\n",
       "0  ساعة رسمية للرجال من فوسيل FS5170 - بني  2,337.00  تنتهي في 3 أيام   \n",
       "\n",
       "         date  \n",
       "0  2021-09-11  "
      ]
     },
     "execution_count": 30,
     "metadata": {},
     "output_type": "execute_result"
    }
   ],
   "source": [
    "#read csv file data\n",
    "import pandas as pd\n",
    "data=pd.read_csv('amazonWatchTracker.csv')\n",
    "data\n"
   ]
  },
  {
   "cell_type": "code",
   "execution_count": null,
   "id": "200633e6",
   "metadata": {},
   "outputs": [],
   "source": []
  },
  {
   "cell_type": "code",
   "execution_count": null,
   "id": "62af4a28",
   "metadata": {},
   "outputs": [],
   "source": []
  }
 ],
 "metadata": {
  "kernelspec": {
   "display_name": "Python 3",
   "language": "python",
   "name": "python3"
  },
  "language_info": {
   "codemirror_mode": {
    "name": "ipython",
    "version": 3
   },
   "file_extension": ".py",
   "mimetype": "text/x-python",
   "name": "python",
   "nbconvert_exporter": "python",
   "pygments_lexer": "ipython3",
   "version": "3.8.8"
  }
 },
 "nbformat": 4,
 "nbformat_minor": 5
}
